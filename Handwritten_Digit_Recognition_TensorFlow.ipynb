{
  "nbformat": 4,
  "nbformat_minor": 0,
  "metadata": {
    "colab": {
      "provenance": [],
      "authorship_tag": "ABX9TyNgnn+oDble9q1wj3ZWxelY",
      "include_colab_link": true
    },
    "kernelspec": {
      "name": "python3",
      "display_name": "Python 3"
    },
    "language_info": {
      "name": "python"
    }
  },
  "cells": [
    {
      "cell_type": "markdown",
      "metadata": {
        "id": "view-in-github",
        "colab_type": "text"
      },
      "source": [
        "<a href=\"https://colab.research.google.com/github/BanafshehHassani/Tensorflow-on-single-node/blob/main/Handwritten_Digit_Recognition_TensorFlow.ipynb\" target=\"_parent\"><img src=\"https://colab.research.google.com/assets/colab-badge.svg\" alt=\"Open In Colab\"/></a>"
      ]
    },
    {
      "cell_type": "markdown",
      "source": [
        "Handwritten Digit Recognition using TensorFlow\n",
        "\n",
        "Author: [Banafsheh Hassani](https://www.linkedin.com/in/banafsheh-hassani-7b063a129/)\n",
        "\n",
        "This notebook utilizes TensorFlow, a popular deep learning library, to build a computer vision application for identifying handwritten digits. The model is trained using a Convolutional Neural Network (CNN) architecture on the MNIST dataset.\n",
        "\n",
        "Dataset: MNIST\n",
        "The MNIST dataset is a widely used benchmark dataset for handwritten digit recognition. It consists of 60,000 training images and 10,000 test images of handwritten digits (0 to 9). Each image is a grayscale image of size 28x28 pixels.\n",
        "\n",
        "Code Overview:\n",
        "\n",
        "Import the necessary libraries, including TensorFlow and the required modules.\n",
        "Define the architecture of the neural network using convolutional and fully connected layers.\n",
        "Load the MNIST dataset and apply transformations, such as converting images to tensors and normalization.\n",
        "Create data loaders to handle batching and shuffling of training and test data.\n",
        "Initialize the model and optimizer.\n",
        "Perform the training loop over a specified number of epochs, computing and optimizing the loss.\n",
        "Perform the testing loop to evaluate the model's performance on the test dataset.\n",
        "Print the test loss and accuracy metrics."
      ],
      "metadata": {
        "id": "0gYCG6C8Il2Y"
      }
    },
    {
      "cell_type": "code",
      "source": [
        "import tensorflow as tf\n",
        "from tensorflow.keras import layers, models, optimizers\n",
        "from tensorflow.keras.datasets import mnist\n",
        "\n",
        "# Load and preprocess the MNIST dataset\n",
        "(x_train, y_train), (x_test, y_test) = mnist.load_data()\n",
        "x_train = x_train.reshape(-1, 28, 28, 1) / 255.0\n",
        "x_test = x_test.reshape(-1, 28, 28, 1) / 255.0\n",
        "\n",
        "# Define the model architecture\n",
        "model = models.Sequential()\n",
        "model.add(layers.Conv2D(32, (3, 3), activation='relu', input_shape=(28, 28, 1)))\n",
        "model.add(layers.MaxPooling2D((2, 2)))\n",
        "model.add(layers.Conv2D(64, (3, 3), activation='relu'))\n",
        "model.add(layers.MaxPooling2D((2, 2)))\n",
        "model.add(layers.Flatten())\n",
        "model.add(layers.Dense(64, activation='relu'))\n",
        "model.add(layers.Dense(10, activation='softmax'))\n",
        "\n",
        "# Compile and train the model\n",
        "model.compile(optimizer=optimizers.Adam(learning_rate=0.001),\n",
        "              loss='sparse_categorical_crossentropy',\n",
        "              metrics=['accuracy'])\n",
        "model.fit(x_train, y_train, epochs=5, batch_size=64, validation_data=(x_test, y_test))\n",
        "\n",
        "# Evaluate the model on the test dataset\n",
        "test_loss, test_accuracy = model.evaluate(x_test, y_test)\n",
        "print('Test Loss: {:.4f}, Accuracy: {:.2f}%'.format(test_loss, test_accuracy*100))\n"
      ],
      "metadata": {
        "colab": {
          "base_uri": "https://localhost:8080/"
        },
        "id": "8uexFDWOIwpJ",
        "outputId": "57f1891a-1ea7-41e6-8bff-710764b7fe9e"
      },
      "execution_count": null,
      "outputs": [
        {
          "output_type": "stream",
          "name": "stdout",
          "text": [
            "Downloading data from https://storage.googleapis.com/tensorflow/tf-keras-datasets/mnist.npz\n",
            "11490434/11490434 [==============================] - 1s 0us/step\n",
            "Epoch 1/5\n",
            "938/938 [==============================] - 61s 63ms/step - loss: 0.1787 - accuracy: 0.9476 - val_loss: 0.0536 - val_accuracy: 0.9830\n",
            "Epoch 2/5\n",
            "938/938 [==============================] - 59s 63ms/step - loss: 0.0541 - accuracy: 0.9830 - val_loss: 0.0457 - val_accuracy: 0.9850\n",
            "Epoch 3/5\n",
            "743/938 [======================>.......] - ETA: 11s - loss: 0.0391 - accuracy: 0.9880"
          ]
        }
      ]
    },
    {
      "cell_type": "markdown",
      "source": [
        "Conclusion:\n",
        "By utilizing TensorFlow, we have built a Convolutional Neural Network (CNN) model to accurately identify handwritten digits from the MNIST dataset. The trained model achieves high accuracy, demonstrating the power of deep learning in computer vision tasks. With TensorFlow's ease of use and extensive functionality, it becomes easier to develop and deploy robust image recognition systems."
      ],
      "metadata": {
        "id": "FAd4QuniI0OC"
      }
    }
  ]
}